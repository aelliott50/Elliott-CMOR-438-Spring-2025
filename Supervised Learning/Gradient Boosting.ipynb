{
 "cells": [
  {
   "cell_type": "code",
   "id": "edb80c08a9f9cd48",
   "metadata": {
    "ExecuteTime": {
     "end_time": "2025-05-06T12:30:16.496852Z",
     "start_time": "2025-05-06T12:30:16.486857Z"
    }
   },
   "source": [
    "import numpy as np\n",
    "import matplotlib.pyplot as plt\n",
    "import pandas as pd\n",
    "from sklearn import datasets\n",
    "from sklearn.model_selection import train_test_split\n",
    "from sklearn.tree import DecisionTreeRegressor\n",
    "from sklearn.ensemble import GradientBoostingRegressor\n",
    "from sklearn.metrics import mean_squared_error\n",
    "import seaborn as sns\n",
    "sns.set_theme()"
   ],
   "outputs": [],
   "execution_count": 117
  },
  {
   "metadata": {
    "ExecuteTime": {
     "end_time": "2025-05-06T12:30:39.865831Z",
     "start_time": "2025-05-06T12:30:39.842645Z"
    }
   },
   "cell_type": "code",
   "source": [
    "# Load the concrete dataset\n",
    "concrete = datasets.fetch_openml(name='Concrete_Compressive_Strength',version=7, as_frame=True)\n",
    "df = concrete.frame\n",
    "\n",
    "X = df.drop(columns='strength').values\n",
    "y = df['strength'].values\n",
    "\n",
    "X_train, X_test, y_train, y_test = train_test_split(X, y, test_size = 0.4, random_state = 42)\n",
    "df"
   ],
   "id": "8e7e4c61eb91cfe1",
   "outputs": [
    {
     "data": {
      "text/plain": [
       "      cement  blast_furnace_slag  fly_ash  water  superplasticizer  \\\n",
       "0      540.0                 0.0      0.0  162.0               2.5   \n",
       "1      540.0                 0.0      0.0  162.0               2.5   \n",
       "2      332.5               142.5      0.0  228.0               0.0   \n",
       "3      332.5               142.5      0.0  228.0               0.0   \n",
       "4      198.6               132.4      0.0  192.0               0.0   \n",
       "...      ...                 ...      ...    ...               ...   \n",
       "1025   276.4               116.0     90.3  179.6               8.9   \n",
       "1026   322.2                 0.0    115.6  196.0              10.4   \n",
       "1027   148.5               139.4    108.6  192.7               6.1   \n",
       "1028   159.1               186.7      0.0  175.6              11.3   \n",
       "1029   260.9               100.5     78.3  200.6               8.6   \n",
       "\n",
       "      coarse_aggregate  fine_aggregate  age   strength  \n",
       "0               1040.0           676.0   28  79.986111  \n",
       "1               1055.0           676.0   28  61.887366  \n",
       "2                932.0           594.0  270  40.269535  \n",
       "3                932.0           594.0  365  41.052780  \n",
       "4                978.4           825.5  360  44.296075  \n",
       "...                ...             ...  ...        ...  \n",
       "1025             870.1           768.3   28  44.284354  \n",
       "1026             817.9           813.4   28  31.178794  \n",
       "1027             892.4           780.0   28  23.696601  \n",
       "1028             989.6           788.9   28  32.768036  \n",
       "1029             864.5           761.5   28  32.401235  \n",
       "\n",
       "[1030 rows x 9 columns]"
      ],
      "text/html": [
       "<div>\n",
       "<style scoped>\n",
       "    .dataframe tbody tr th:only-of-type {\n",
       "        vertical-align: middle;\n",
       "    }\n",
       "\n",
       "    .dataframe tbody tr th {\n",
       "        vertical-align: top;\n",
       "    }\n",
       "\n",
       "    .dataframe thead th {\n",
       "        text-align: right;\n",
       "    }\n",
       "</style>\n",
       "<table border=\"1\" class=\"dataframe\">\n",
       "  <thead>\n",
       "    <tr style=\"text-align: right;\">\n",
       "      <th></th>\n",
       "      <th>cement</th>\n",
       "      <th>blast_furnace_slag</th>\n",
       "      <th>fly_ash</th>\n",
       "      <th>water</th>\n",
       "      <th>superplasticizer</th>\n",
       "      <th>coarse_aggregate</th>\n",
       "      <th>fine_aggregate</th>\n",
       "      <th>age</th>\n",
       "      <th>strength</th>\n",
       "    </tr>\n",
       "  </thead>\n",
       "  <tbody>\n",
       "    <tr>\n",
       "      <th>0</th>\n",
       "      <td>540.0</td>\n",
       "      <td>0.0</td>\n",
       "      <td>0.0</td>\n",
       "      <td>162.0</td>\n",
       "      <td>2.5</td>\n",
       "      <td>1040.0</td>\n",
       "      <td>676.0</td>\n",
       "      <td>28</td>\n",
       "      <td>79.986111</td>\n",
       "    </tr>\n",
       "    <tr>\n",
       "      <th>1</th>\n",
       "      <td>540.0</td>\n",
       "      <td>0.0</td>\n",
       "      <td>0.0</td>\n",
       "      <td>162.0</td>\n",
       "      <td>2.5</td>\n",
       "      <td>1055.0</td>\n",
       "      <td>676.0</td>\n",
       "      <td>28</td>\n",
       "      <td>61.887366</td>\n",
       "    </tr>\n",
       "    <tr>\n",
       "      <th>2</th>\n",
       "      <td>332.5</td>\n",
       "      <td>142.5</td>\n",
       "      <td>0.0</td>\n",
       "      <td>228.0</td>\n",
       "      <td>0.0</td>\n",
       "      <td>932.0</td>\n",
       "      <td>594.0</td>\n",
       "      <td>270</td>\n",
       "      <td>40.269535</td>\n",
       "    </tr>\n",
       "    <tr>\n",
       "      <th>3</th>\n",
       "      <td>332.5</td>\n",
       "      <td>142.5</td>\n",
       "      <td>0.0</td>\n",
       "      <td>228.0</td>\n",
       "      <td>0.0</td>\n",
       "      <td>932.0</td>\n",
       "      <td>594.0</td>\n",
       "      <td>365</td>\n",
       "      <td>41.052780</td>\n",
       "    </tr>\n",
       "    <tr>\n",
       "      <th>4</th>\n",
       "      <td>198.6</td>\n",
       "      <td>132.4</td>\n",
       "      <td>0.0</td>\n",
       "      <td>192.0</td>\n",
       "      <td>0.0</td>\n",
       "      <td>978.4</td>\n",
       "      <td>825.5</td>\n",
       "      <td>360</td>\n",
       "      <td>44.296075</td>\n",
       "    </tr>\n",
       "    <tr>\n",
       "      <th>...</th>\n",
       "      <td>...</td>\n",
       "      <td>...</td>\n",
       "      <td>...</td>\n",
       "      <td>...</td>\n",
       "      <td>...</td>\n",
       "      <td>...</td>\n",
       "      <td>...</td>\n",
       "      <td>...</td>\n",
       "      <td>...</td>\n",
       "    </tr>\n",
       "    <tr>\n",
       "      <th>1025</th>\n",
       "      <td>276.4</td>\n",
       "      <td>116.0</td>\n",
       "      <td>90.3</td>\n",
       "      <td>179.6</td>\n",
       "      <td>8.9</td>\n",
       "      <td>870.1</td>\n",
       "      <td>768.3</td>\n",
       "      <td>28</td>\n",
       "      <td>44.284354</td>\n",
       "    </tr>\n",
       "    <tr>\n",
       "      <th>1026</th>\n",
       "      <td>322.2</td>\n",
       "      <td>0.0</td>\n",
       "      <td>115.6</td>\n",
       "      <td>196.0</td>\n",
       "      <td>10.4</td>\n",
       "      <td>817.9</td>\n",
       "      <td>813.4</td>\n",
       "      <td>28</td>\n",
       "      <td>31.178794</td>\n",
       "    </tr>\n",
       "    <tr>\n",
       "      <th>1027</th>\n",
       "      <td>148.5</td>\n",
       "      <td>139.4</td>\n",
       "      <td>108.6</td>\n",
       "      <td>192.7</td>\n",
       "      <td>6.1</td>\n",
       "      <td>892.4</td>\n",
       "      <td>780.0</td>\n",
       "      <td>28</td>\n",
       "      <td>23.696601</td>\n",
       "    </tr>\n",
       "    <tr>\n",
       "      <th>1028</th>\n",
       "      <td>159.1</td>\n",
       "      <td>186.7</td>\n",
       "      <td>0.0</td>\n",
       "      <td>175.6</td>\n",
       "      <td>11.3</td>\n",
       "      <td>989.6</td>\n",
       "      <td>788.9</td>\n",
       "      <td>28</td>\n",
       "      <td>32.768036</td>\n",
       "    </tr>\n",
       "    <tr>\n",
       "      <th>1029</th>\n",
       "      <td>260.9</td>\n",
       "      <td>100.5</td>\n",
       "      <td>78.3</td>\n",
       "      <td>200.6</td>\n",
       "      <td>8.6</td>\n",
       "      <td>864.5</td>\n",
       "      <td>761.5</td>\n",
       "      <td>28</td>\n",
       "      <td>32.401235</td>\n",
       "    </tr>\n",
       "  </tbody>\n",
       "</table>\n",
       "<p>1030 rows × 9 columns</p>\n",
       "</div>"
      ]
     },
     "execution_count": 118,
     "metadata": {},
     "output_type": "execute_result"
    }
   ],
   "execution_count": 118
  },
  {
   "metadata": {},
   "cell_type": "code",
   "source": [
    "tree_reg1 = DecisionTreeRegressor(max_depth=3, random_state=42)\n",
    "tree_reg1.fit(X_train, y_train)\n",
    "\n",
    "y2 = y_train - tree_reg1.predict(X_train)\n",
    "\n",
    "tree_reg2 = DecisionTreeRegressor(max_depth=3, random_state=42)\n",
    "tree_reg2.fit(X_train, y2)\n",
    "\n",
    "y3 = y2 - tree_reg2.predict(X_train)\n",
    "\n",
    "tree_reg3 = DecisionTreeRegressor(max_depth=3, random_state=42)\n",
    "tree_reg3.fit(X_train, y3)"
   ],
   "id": "7ad619cd11dbdfa9",
   "outputs": [],
   "execution_count": null
  },
  {
   "metadata": {
    "ExecuteTime": {
     "end_time": "2025-05-06T12:05:06.903917Z",
     "start_time": "2025-05-06T12:05:06.889628Z"
    }
   },
   "cell_type": "code",
   "source": [
    "mse_one_regressor = mean_squared_error(y_test, tree_reg1.predict(X_test))\n",
    "mse_boosted = mean_squared_error(y_test, tree_reg1.predict(X_test)+ tree_reg2.predict(X_test)+ tree_reg3.predict(X_test))\n",
    "print(\"MSE of a single depth 3 regression tree: \" + str(mse_one_regressor))\n",
    "print(\"MSE after two steps of gradient boosting: \" + str(mse_boosted))"
   ],
   "id": "2fa18b5b14ff5182",
   "outputs": [
    {
     "name": "stdout",
     "output_type": "stream",
     "text": [
      "MSE of a single depth 3 regression tree: 132.22844213522853\n",
      "MSE after two steps of gradient boosting: 79.8049131795041\n"
     ]
    }
   ],
   "execution_count": 109
  },
  {
   "metadata": {
    "ExecuteTime": {
     "end_time": "2025-05-06T12:05:25.829518Z",
     "start_time": "2025-05-06T12:05:25.694449Z"
    }
   },
   "cell_type": "code",
   "source": [
    "gb_reg = GradientBoostingRegressor(max_depth = 3, n_estimators = 150, learning_rate=0.2, random_state=42)\n",
    "gb_reg.fit(X_train, y_train)\n",
    "y_pred = gb_reg.predict(X_test)"
   ],
   "id": "6608b7e20f140698",
   "outputs": [],
   "execution_count": 110
  },
  {
   "metadata": {},
   "cell_type": "code",
   "source": [
    "mse = mean_squared_error(y_test, y_pred)\n",
    "print(mse)"
   ],
   "id": "2517a8ab1c519dda",
   "outputs": [],
   "execution_count": null
  },
  {
   "metadata": {
    "collapsed": true,
    "ExecuteTime": {
     "end_time": "2025-05-06T12:09:14.241301Z",
     "start_time": "2025-05-06T12:08:56.532111Z"
    }
   },
   "cell_type": "code",
   "source": [
    "mses = []\n",
    "for i in range(1, 501, 5):\n",
    "    gb_reg = GradientBoostingRegressor(max_depth = 3, n_estimators = i, learning_rate=0.2, random_state=42)\n",
    "    gb_reg.fit(X_train, y_train)\n",
    "    y_pred = gb_reg.predict(X_test)\n",
    "    mses.append(mean_squared_error(y_test, y_pred))\n",
    "x = range(1, 501, 5)\n",
    "plt.figure(figsize=(10, 6))\n",
    "plt.plot(x, mses, label='MSE')\n",
    "plt.title('MSE vs Number of Estimators for Gradient Boosting Regressor')\n",
    "plt.xlabel('Number of Estimators')\n",
    "plt.ylabel('Mean Squared Error (MSE)')\n",
    "plt.grid(True)\n",
    "plt.legend()\n",
    "plt.show()"
   ],
   "id": "initial_id",
   "outputs": [
    {
     "data": {
      "text/plain": [
       "<Figure size 1000x600 with 1 Axes>"
      ],
      "image/png": "[encoded data removed]"
     },
     "metadata": {},
     "output_type": "display_data"
    }
   ],
   "execution_count": 114
  },
  {
   "metadata": {},
   "cell_type": "code",
   "source": "print(min(mses))",
   "id": "629d09c0063be3d7",
   "outputs": [],
   "execution_count": null
  },
  {
   "metadata": {
    "ExecuteTime": {
     "end_time": "2025-05-06T12:10:34.764Z",
     "start_time": "2025-05-06T12:10:34.760073Z"
    }
   },
   "cell_type": "code",
   "source": [
    "print(\"Target Mean: \" + str(np.mean(y_test)))\n",
    "print(\"Target Variance: \" + str(np.std(y_test)**2))"
   ],
   "id": "6ef48d10ae0f40e0",
   "outputs": [
    {
     "name": "stdout",
     "output_type": "stream",
     "text": [
      "Target Mean: 35.53367952900692\n",
      "Target Variance: 296.1888238047551\n"
     ]
    }
   ],
   "execution_count": 116
  },
  {
   "metadata": {},
   "cell_type": "markdown",
   "source": "With gradient boosting, we can achieve a mean squared error of about 22.5. This is a  normalized MSE of 22.45/296.16 = 0.076. This is a very low error, suggesting that this ensemble strategy is very effective. This same dataset was used in the Regression Tree implementation, which could do no better than an MSE of 50. Using gradient boosting, subsequent estimators each are able to decrease mse by more, because each estimator compensates for the errors accumulated by all of the past estimators. Gradient Boosting is a very effective way to reduce variance and make our regression be as accurate as possible.",
   "id": "6138658584ab59b3"
  }
 ],
 "metadata": {
  "kernelspec": {
   "display_name": "Python 3",
   "language": "python",
   "name": "python3"
  },
  "language_info": {
   "codemirror_mode": {
    "name": "ipython",
    "version": 2
   },
   "file_extension": ".py",
   "mimetype": "text/x-python",
   "name": "python",
   "nbconvert_exporter": "python",
   "pygments_lexer": "ipython2",
   "version": "2.7.6"
  }
 },
 "nbformat": 4,
 "nbformat_minor": 5
}
