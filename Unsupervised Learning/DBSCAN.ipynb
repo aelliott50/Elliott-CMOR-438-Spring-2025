{
 "cells": [
  {
   "cell_type": "code",
   "id": "2c40565d6d8d591a",
   "metadata": {
    "ExecuteTime": {
     "end_time": "2025-05-06T19:17:02.990589Z",
     "start_time": "2025-05-06T19:17:02.981355Z"
    }
   },
   "source": [
    "import numpy as np\n",
    "import pandas as pd\n",
    "import matplotlib.pyplot as plt\n",
    "from sklearn import datasets\n",
    "from sklearn.preprocessing import StandardScaler\n",
    "from sklearn.cluster import DBSCAN\n",
    "import seaborn as sns\n",
    "sns.set_theme()"
   ],
   "outputs": [],
   "execution_count": 4
  },
  {
   "metadata": {},
   "cell_type": "code",
   "source": [
    "data = datasets.load_wine(as_frame=True)\n",
    "df = data.frame\n",
    "\n",
    "X = df.drop(columns='target').values\n",
    "y = df['target'].values\n",
    "\n",
    "# Standardize features (important for DBSCAN)\n",
    "scaler = StandardScaler()\n",
    "X_scaled = scaler.fit_transform(X)\n",
    "\n",
    "# Apply DBSCAN\n",
    "dbscan = DBSCAN(eps=1.5, min_samples=5)  # You can tune these\n",
    "labels = dbscan.fit_predict(X_scaled)"
   ],
   "id": "523878c4d7992c24",
   "outputs": [],
   "execution_count": null
  },
  {
   "metadata": {},
   "cell_type": "code",
   "source": [
    "# Plotting first two principal components for visualization\n",
    "from sklearn.decomposition import PCA\n",
    "X_pca = PCA(n_components=2).fit_transform(X_scaled)\n",
    "\n",
    "plt.figure(figsize=(8,6))\n",
    "plt.scatter(X_pca[:, 0], X_pca[:, 1], c=labels, cmap='plasma', s=50)\n",
    "plt.title(\"DBSCAN on Wine Dataset (2D PCA Projection)\")\n",
    "plt.xlabel(\"PCA Component 1\")\n",
    "plt.ylabel(\"PCA Component 2\")\n",
    "plt.colorbar(label=\"Cluster Label\")\n",
    "plt.show()"
   ],
   "id": "2024bcc5e7fab84d",
   "outputs": [],
   "execution_count": null
  },
  {
   "metadata": {},
   "cell_type": "code",
   "source": [
    "# Check how many clusters and noise points were found\n",
    "n_clusters = len(set(labels)) - (1 if -1 in labels else 0)\n",
    "n_noise = list(labels).count(-1)\n",
    "\n",
    "print(f\"Number of clusters: {n_clusters}\")\n",
    "print(f\"Number of noise points: {n_noise}\")"
   ],
   "id": "ed7fa21b815d2639",
   "outputs": [],
   "execution_count": null
  },
  {
   "metadata": {},
   "cell_type": "markdown",
   "source": [
    "Interestingly, the DBSCAN algorithm did not think that enough of the data was close enough in any\n",
    "places to warrant being clustered. For this reason, the algorithm did not cluster any of the data\n",
    "points together. This issue likely arises from this dataset because the classes are so similar, so without prior guidance that there are 3 distinct classes, it seems that the data is all in one\n",
    "cluster, or in no clusters at all."
   ],
   "id": "bd47f307d1ff1a61"
  }
 ],
 "metadata": {
  "kernelspec": {
   "display_name": "Python 3",
   "language": "python",
   "name": "python3"
  },
  "language_info": {
   "codemirror_mode": {
    "name": "ipython",
    "version": 2
   },
   "file_extension": ".py",
   "mimetype": "text/x-python",
   "name": "python",
   "nbconvert_exporter": "python",
   "pygments_lexer": "ipython2",
   "version": "2.7.6"
  }
 },
 "nbformat": 4,
 "nbformat_minor": 5
}
