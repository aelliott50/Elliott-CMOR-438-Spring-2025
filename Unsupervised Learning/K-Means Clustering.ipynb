{
 "cells": [
  {
   "cell_type": "code",
   "id": "e347d2ef944c4a",
   "metadata": {
    "ExecuteTime": {
     "end_time": "2025-05-06T19:07:04.651511Z",
     "start_time": "2025-05-06T19:07:04.628176Z"
    }
   },
   "source": [
    "import numpy as np\n",
    "import pandas as pd\n",
    "from sklearn import datasets\n",
    "import seaborn as sns\n",
    "sns.set_theme()"
   ],
   "outputs": [],
   "execution_count": 61
  },
  {
   "metadata": {
    "ExecuteTime": {
     "end_time": "2025-05-06T13:18:46.857656Z",
     "start_time": "2025-05-06T13:18:46.840133Z"
    }
   },
   "cell_type": "code",
   "source": [
    "data = datasets.load_wine(as_frame=True)\n",
    "df = data.frame\n",
    "\n",
    "X = df.drop(columns='target').values\n",
    "y = df['target'].values"
   ],
   "id": "22744c5149e94b55",
   "outputs": [],
   "execution_count": 28
  },
  {
   "metadata": {
    "ExecuteTime": {
     "end_time": "2025-05-06T13:15:05.624444Z",
     "start_time": "2025-05-06T13:15:05.603331Z"
    }
   },
   "cell_type": "code",
   "source": [
    "def initialize_centers(X, k):\n",
    "    indices = np.random.choice(len(X), size=k, replace=False)\n",
    "    return X[indices]"
   ],
   "id": "7a9fbc9f3aeb79bb",
   "outputs": [],
   "execution_count": 20
  },
  {
   "metadata": {
    "ExecuteTime": {
     "end_time": "2025-05-06T13:15:19.400265Z",
     "start_time": "2025-05-06T13:15:19.395912Z"
    }
   },
   "cell_type": "code",
   "source": [
    "\n",
    "def assign_clusters(X, centers):\n",
    "    # Compute distances from all points to all centers\n",
    "    dists = np.linalg.norm(X[:, np.newaxis, :] - centers[np.newaxis, :, :], axis=2)\n",
    "    return np.argmin(dists, axis=1)"
   ],
   "id": "7ca5075523c3c1ab",
   "outputs": [],
   "execution_count": 22
  },
  {
   "metadata": {
    "ExecuteTime": {
     "end_time": "2025-05-06T13:15:21.847732Z",
     "start_time": "2025-05-06T13:15:21.843138Z"
    }
   },
   "cell_type": "code",
   "source": [
    "\n",
    "def update_centers(X, labels, k):\n",
    "    new_centers = np.array([X[labels == j].mean(axis=0) for j in range(k)])\n",
    "    return new_centers"
   ],
   "id": "efc52fcfa84a5f8e",
   "outputs": [],
   "execution_count": 23
  },
  {
   "metadata": {
    "ExecuteTime": {
     "end_time": "2025-05-06T18:49:13.459728Z",
     "start_time": "2025-05-06T18:49:13.455117Z"
    }
   },
   "cell_type": "code",
   "source": [
    "\n",
    "def k_means_clustering(X, k, max_iter=100):\n",
    "    centers = initialize_centers(X, k)\n",
    "\n",
    "    for _ in range(max_iter):\n",
    "        labels = assign_clusters(X, centers)\n",
    "        new_centers = update_centers(X, labels, k)\n",
    "\n",
    "        # Optional: check for convergence\n",
    "        if np.allclose(centers, new_centers):\n",
    "            break\n",
    "        centers = new_centers\n",
    "\n",
    "    return centers, labels"
   ],
   "id": "fd47452039cc1048",
   "outputs": [],
   "execution_count": 47
  },
  {
   "metadata": {
    "ExecuteTime": {
     "end_time": "2025-05-06T18:49:25.592869Z",
     "start_time": "2025-05-06T18:49:25.583987Z"
    }
   },
   "cell_type": "code",
   "source": [
    "centers, labels = k_means_clustering(X, 3)\n",
    "\n",
    "from sklearn.metrics import adjusted_rand_score, normalized_mutual_info_score\n",
    "\n",
    "# These metrics are label-invariant and measure how well clustering matches ground truth\n",
    "print(\"Adjusted Rand Index:\", adjusted_rand_score(y, labels))\n",
    "print(\"Normalized Mutual Information:\", normalized_mutual_info_score(y, labels))"
   ],
   "id": "12ed3ab83fdf0927",
   "outputs": [
    {
     "name": "stdout",
     "output_type": "stream",
     "text": [
      "Adjusted Rand Index: 0.33890518316180995\n",
      "Normalized Mutual Information: 0.41339346113562453\n"
     ]
    }
   ],
   "execution_count": 60
  },
  {
   "metadata": {},
   "cell_type": "markdown",
   "source": "Adjusted Rand Index is on a scale from -1 to 1, where 0 suggests that the clusters that were formed are effectively random, a negative number suggests that the clusters are selected in a way that is even worse than random, relative to the true labels, and a 1 implies a perfect clustering. Normalized Mutual information measures a similar thing, being the shared information between true labels and cluster assignments, on a scale from 0 to 1. By both of these metrics, the clustering was fairly accurate.",
   "id": "6e2d4885bddd02dc"
  }
 ],
 "metadata": {
  "kernelspec": {
   "display_name": "Python 3",
   "language": "python",
   "name": "python3"
  },
  "language_info": {
   "codemirror_mode": {
    "name": "ipython",
    "version": 2
   },
   "file_extension": ".py",
   "mimetype": "text/x-python",
   "name": "python",
   "nbconvert_exporter": "python",
   "pygments_lexer": "ipython2",
   "version": "2.7.6"
  }
 },
 "nbformat": 4,
 "nbformat_minor": 5
}
