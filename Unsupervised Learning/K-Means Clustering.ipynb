{
 "cells": [
  {
   "cell_type": "code",
   "id": "e347d2ef944c4a",
   "metadata": {
    "ExecuteTime": {
     "end_time": "2025-05-06T12:55:02.037717Z",
     "start_time": "2025-05-06T12:55:01.788900Z"
    }
   },
   "source": [
    "import numpy as np\n",
    "import matplotlib.pyplot as plt\n",
    "import pandas as pd\n",
    "from sklearn import datasets\n",
    "from sklearn.model_selection import train_test_split\n",
    "from sklearn.tree import DecisionTreeRegressor\n",
    "from sklearn.ensemble import GradientBoostingRegressor\n",
    "from sklearn.metrics import mean_squared_error\n",
    "import seaborn as sns\n",
    "sns.set_theme()"
   ],
   "outputs": [],
   "execution_count": 2
  },
  {
   "metadata": {
    "ExecuteTime": {
     "end_time": "2025-05-06T13:18:46.857656Z",
     "start_time": "2025-05-06T13:18:46.840133Z"
    }
   },
   "cell_type": "code",
   "source": [
    "data = datasets.load_wine(as_frame=True)\n",
    "df = data.frame\n",
    "\n",
    "X = df.drop(columns='target').values\n",
    "y = df['target'].values"
   ],
   "id": "22744c5149e94b55",
   "outputs": [],
   "execution_count": 28
  },
  {
   "metadata": {
    "ExecuteTime": {
     "end_time": "2025-05-06T13:15:05.624444Z",
     "start_time": "2025-05-06T13:15:05.603331Z"
    }
   },
   "cell_type": "code",
   "source": [
    "def initialize_centers(X, k):\n",
    "    indices = np.random.choice(len(X), size=k, replace=False)\n",
    "    return X[indices]"
   ],
   "id": "7a9fbc9f3aeb79bb",
   "outputs": [],
   "execution_count": 20
  },
  {
   "metadata": {
    "ExecuteTime": {
     "end_time": "2025-05-06T13:15:19.400265Z",
     "start_time": "2025-05-06T13:15:19.395912Z"
    }
   },
   "cell_type": "code",
   "source": [
    "\n",
    "def assign_clusters(X, centers):\n",
    "    # Compute distances from all points to all centers\n",
    "    dists = np.linalg.norm(X[:, np.newaxis, :] - centers[np.newaxis, :, :], axis=2)\n",
    "    return np.argmin(dists, axis=1)"
   ],
   "id": "7ca5075523c3c1ab",
   "outputs": [],
   "execution_count": 22
  },
  {
   "metadata": {
    "ExecuteTime": {
     "end_time": "2025-05-06T13:15:21.847732Z",
     "start_time": "2025-05-06T13:15:21.843138Z"
    }
   },
   "cell_type": "code",
   "source": [
    "\n",
    "def update_centers(X, labels, k):\n",
    "    new_centers = np.array([X[labels == j].mean(axis=0) for j in range(k)])\n",
    "    return new_centers"
   ],
   "id": "efc52fcfa84a5f8e",
   "outputs": [],
   "execution_count": 23
  },
  {
   "metadata": {},
   "cell_type": "code",
   "source": [
    "\n",
    "def k_means_clustering(X, k, max_iter=100):\n",
    "    centers = initialize_centers(X, k)\n",
    "\n",
    "    for _ in range(max_iter):\n",
    "        labels = assign_clusters(X, centers)\n",
    "        new_centers = update_centers(X, labels, k)\n",
    "\n",
    "        # Optional: check for convergence\n",
    "        if np.allclose(centers, new_centers):\n",
    "            break\n",
    "        centers = new_centers\n",
    "\n",
    "    return centers, labels"
   ],
   "id": "fd47452039cc1048",
   "outputs": [],
   "execution_count": null
  },
  {
   "metadata": {
    "collapsed": true,
    "ExecuteTime": {
     "end_time": "2025-05-06T13:27:28.278887Z",
     "start_time": "2025-05-06T13:27:28.268192Z"
    }
   },
   "cell_type": "code",
   "source": "centers, labels = k_means_clustering(X, 3)\n",
   "id": "initial_id",
   "outputs": [],
   "execution_count": 31
  }
 ],
 "metadata": {
  "kernelspec": {
   "display_name": "Python 3",
   "language": "python",
   "name": "python3"
  },
  "language_info": {
   "codemirror_mode": {
    "name": "ipython",
    "version": 2
   },
   "file_extension": ".py",
   "mimetype": "text/x-python",
   "name": "python",
   "nbconvert_exporter": "python",
   "pygments_lexer": "ipython2",
   "version": "2.7.6"
  }
 },
 "nbformat": 4,
 "nbformat_minor": 5
}
